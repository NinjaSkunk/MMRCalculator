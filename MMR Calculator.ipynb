{
 "cells": [
  {
   "cell_type": "code",
   "execution_count": 93,
   "metadata": {},
   "outputs": [],
   "source": [
    "#Cleaned Up april 2 12:18 pm\n",
    "#chubchub accountID UWPqS-JRVtQduqh4cFKkJnaBq_sF1RS7VtuN2I9i3tTlqSCM2jMgRXzd\n",
    "#id: NxOBT_XFlCr3v_APLk_RaS_uB_nb_sR7HN024lxc2EwW4zRI\n",
    "#Avg LP for each win and loss\n",
    "#Past 15 games wr%\n",
    "#Avg rank of players in the game\n",
    "    #Get rid of self, get rid of games with friends,get solo duo rank bc it is mixed with flex\n",
    "import requests\n",
    "import time\n",
    "import pandas as pd\n",
    "APIKEY = 'RGAPI-785997ae-99c5-4778-88d5-f458ac920de5'\n",
    "def getAccountID(summonerName):\n",
    "    URL = \"https://na1.api.riotgames.com/lol/summoner/v4/summoners/by-name/\" + summonerName + \"?api_key=\" + APIKEY\n",
    "    response = requests.get(URL)\n",
    "    sumId = response.json()['accountId']\n",
    "    return sumId\n",
    "def getSummonerID(summonerName):\n",
    "    URL = \"https://na1.api.riotgames.com/lol/summoner/v4/summoners/by-name/\" + summonerName + \"?api_key=\" + APIKEY\n",
    "    response = requests.get(URL)\n",
    "    sumId = response.json()['id']\n",
    "    return sumId\n",
    "\n",
    "def listOfRankedGames(summonerName):\n",
    "    sumId = getAccountID(summonerName)\n",
    "    URL = \"https://na1.api.riotgames.com/lol/match/v4/matchlists/by-account/\" + sumId + \"?queue=420\" + \"&api_key=\" + APIKEY\n",
    "    response = requests.get(URL)\n",
    "    numGames = min(15,len(response.json()['matches']))\n",
    "    gameIdList = []\n",
    "    for matchNum in range(numGames):\n",
    "        gameIdList.append(response.json()['matches'][matchNum][\"gameId\"])\n",
    "    return gameIdList\n",
    "'''\n",
    "def winningTeam(gameId):\n",
    "    URL = \"https://na1.api.riotgames.com/lol/match/v4/matches/\" + str(gameId) + \"?api_key=\" + APIKEY\n",
    "    response = requests.get(URL)\n",
    "    #seeing if first team wins\n",
    "    if response.json()[\"teams\"][0][\"win\"] == \"Fail\":\n",
    "        winner = 200\n",
    "    else:\n",
    "        winner = 100\n",
    "    return winner\n",
    "'''\n",
    "def winRate(summonerName):\n",
    "    URL = \"https://na1.api.riotgames.com/lol/summoner/v4/summoners/by-name/\" + summonerName + \"?api_key=\" + APIKEY\n",
    "    response = requests.get(URL)\n",
    "    sumId = response.json()['accountId']\n",
    "    #From List Of Ranked Games\n",
    "    URL = \"https://na1.api.riotgames.com/lol/match/v4/matchlists/by-account/\" + sumId + \"?queue=420\" + \"&api_key=\" + APIKEY\n",
    "    response = requests.get(URL)\n",
    "    numGames = min(15,len(response.json()['matches']))\n",
    "    gameIdList = []\n",
    "    for matchNum in range(numGames):\n",
    "        gameIdList.append(response.json()['matches'][matchNum][\"gameId\"])\n",
    "    #Up to now gives list of 15 game IDs\n",
    "    listOfWinRates = []\n",
    "    for i in range(numGames):\n",
    "        URL = \"https://na1.api.riotgames.com/lol/match/v4/matches/\" + str(gameIdList[i]) + \"?api_key=\" + APIKEY\n",
    "        #FIGURE OUT WHICH TEAM WINS\n",
    "        response = requests.get(URL)\n",
    "        #seeing if first team wins\n",
    "        if response.json()[\"gameDuration\"] < 301:\n",
    "            winner = 300\n",
    "        elif response.json()[\"teams\"][0][\"win\"] == \"Fail\":\n",
    "            winner = 200  \n",
    "        else:\n",
    "            winner = 100\n",
    "            \n",
    "        #END, FROM WINNER METHOD ABOVE\n",
    "        for j in range(0,10):\n",
    "            if response.json()['participantIdentities'][j][\"player\"][\"accountId\"] == sumId:\n",
    "                participantId = response.json()['participantIdentities'][j][\"participantId\"]\n",
    "                if(participantId>5):\n",
    "                    team = 200\n",
    "                else:\n",
    "                    team = 100\n",
    "                if(winner == 300):\n",
    "                    listOfWinRates.append(2)\n",
    "                elif(team == winner):\n",
    "                    listOfWinRates.append(1)\n",
    "                else:\n",
    "                    listOfWinRates.append(0)\n",
    "                break\n",
    "    return listOfWinRates\n",
    "    \n"
   ]
  },
  {
   "cell_type": "code",
   "execution_count": 106,
   "metadata": {},
   "outputs": [],
   "source": [
    "#KXoOd1XABkNyHVpXs_HuYLpSC3a9oieucziuBllYdlR2-if5\n",
    "def tierAverage(summonerName):\n",
    "    URL = \"https://na1.api.riotgames.com/lol/summoner/v4/summoners/by-name/\" + summonerName + \"?api_key=\" + APIKEY\n",
    "    response = requests.get(URL)\n",
    "    ID = response.json()['id']\n",
    "    #recent\n",
    "    firstdict = {}\n",
    "    listOfFriends = []\n",
    "    gameIds = listOfRankedGames(summonerName)\n",
    "    avg_len = len(gameIds)//3\n",
    "    remainder = len(gameIds)%3\n",
    "    for i in range(avg_len):\n",
    "        URL = \"https://na1.api.riotgames.com/lol/match/v4/matches/\" + str(gameIds[i]) + \"?api_key=\" + APIKEY\n",
    "        response = requests.get(URL)\n",
    "        for j in range(0,10):\n",
    "            if response.json()['participantIdentities'][j][\"player\"][\"summonerId\"] != ID:\n",
    "                summonerId = response.json()['participantIdentities'][j][\"player\"][\"summonerId\"]\n",
    "                URL2 = \"https://na1.api.riotgames.com/lol/league/v4/entries/by-summoner/\" + str(summonerId) + \"?api_key=\" + APIKEY  \n",
    "                response2 = requests.get(URL2)\n",
    "                if(len(response2.json()) == 1):\n",
    "                    pts = ptsCalculator(response2.json()[0][\"tier\"],response2.json()[0][\"rank\"],response2.json()[0][\"leaguePoints\"])\n",
    "                else:\n",
    "                    if response2.json()[0][\"queueType\"] == \"RANKED_FLEX_SR\":\n",
    "                        pts = ptsCalculator(response2.json()[1][\"tier\"],response2.json()[1][\"rank\"],response2.json()[1][\"leaguePoints\"])\n",
    "                    else:\n",
    "                        pts = ptsCalculator(response2.json()[0][\"tier\"],response2.json()[0][\"rank\"],response2.json()[0][\"leaguePoints\"])\n",
    "                if(summonerId in firstdict.keys()):\n",
    "                    listOfFriends.append(summonerId)\n",
    "                firstdict[summonerId] = pts\n",
    "    print(unique(listOfFriends))\n",
    "    for i in unique(listOfFriends): #had to use unique on listOfFriends because there were multiple copies of a single friend\n",
    "        del firstdict[i]            #after it deleted the friend in firstdict it kept looking to delete that same friend again\n",
    "    sum = 0\n",
    "    for x in firstdict:\n",
    "        sum += firstdict[x]\n",
    "    return (sum/len(firstdict)) #####\n",
    "   \n",
    "    "
   ]
  },
  {
   "cell_type": "code",
   "execution_count": 3,
   "metadata": {},
   "outputs": [
    {
     "data": {
      "text/plain": [
       "array([0, 5, 6])"
      ]
     },
     "execution_count": 3,
     "metadata": {},
     "output_type": "execute_result"
    }
   ],
   "source": [
    "import numpy as np \n",
    "  \n",
    "# function to get unique values \n",
    "def unique(list1): \n",
    "    x = np.array(list1) \n",
    "    return np.unique(x)\n",
    "unique([0,0,0,0,5,5,6])"
   ]
  },
  {
   "cell_type": "code",
   "execution_count": 4,
   "metadata": {},
   "outputs": [],
   "source": [
    "def ptsCalculator(tier, rank, lp):\n",
    "    sum = 0\n",
    "    if(tier == \"BRONZE\"):\n",
    "        sum += 4\n",
    "    elif(tier == \"SILVER\"):\n",
    "        sum += 8\n",
    "    elif(tier == \"GOLD\"):\n",
    "        sum += 12\n",
    "    elif(tier == \"PLATINUM\"):\n",
    "        sum += 16\n",
    "    elif(tier == \"DIAMOND\"):\n",
    "        sum += 20\n",
    "    elif(tier == \"MASTER\"):\n",
    "        sum += 24\n",
    "    elif(tier == \"GRANDMASTER\"):\n",
    "        sum += 28\n",
    "    elif(tier == \"CHALLENGER\"):\n",
    "        sum += 32\n",
    "    if(rank == \"III\"):\n",
    "        sum += 1\n",
    "    if(rank == \"II\"):\n",
    "        sum += 2\n",
    "    if(rank == \"I\"):\n",
    "        sum += 3\n",
    "    sum += (lp/100.0)\n",
    "    return sum"
   ]
  },
  {
   "cell_type": "code",
   "execution_count": 94,
   "metadata": {},
   "outputs": [],
   "source": []
  },
  {
   "cell_type": "code",
   "execution_count": 69,
   "metadata": {},
   "outputs": [
    {
     "data": {
      "text/plain": [
       "[1, 1, 1, 1, 0, 0, 2, 0, 1, 0, 0, 1, 0, 0, 0]"
      ]
     },
     "execution_count": 69,
     "metadata": {},
     "output_type": "execute_result"
    }
   ],
   "source": [
    "winRate(\"shamu9\")"
   ]
  },
  {
   "cell_type": "code",
   "execution_count": 50,
   "metadata": {},
   "outputs": [
    {
     "name": "stdout",
     "output_type": "stream",
     "text": [
      "['Ztp2-vaHDEy8JupjmLpd8VLwubOkJHO-U7ZCkG26feYab5as']\n",
      "657.9499999999998\n",
      "40\n"
     ]
    },
    {
     "data": {
      "text/plain": [
       "16.448749999999997"
      ]
     },
     "execution_count": 50,
     "metadata": {},
     "output_type": "execute_result"
    }
   ],
   "source": [
    "winRate(\"Unstable JG Main\")\n",
    "tierAverage(\"Unstable JG Main\")"
   ]
  },
  {
   "cell_type": "code",
   "execution_count": 51,
   "metadata": {},
   "outputs": [
    {
     "name": "stdout",
     "output_type": "stream",
     "text": [
      "['Ztp2-vaHDEy8JupjmLpd8VLwubOkJHO-U7ZCkG26feYab5as']\n",
      "658.1899999999999\n",
      "40\n"
     ]
    },
    {
     "data": {
      "text/plain": [
       "16.454749999999997"
      ]
     },
     "execution_count": 51,
     "metadata": {},
     "output_type": "execute_result"
    }
   ],
   "source": [
    "tierAverage(\"Unstable JG Main\")"
   ]
  },
  {
   "cell_type": "code",
   "execution_count": 10,
   "metadata": {},
   "outputs": [
    {
     "data": {
      "text/plain": [
       "[3334649965,\n",
       " 3334575413,\n",
       " 3334529101,\n",
       " 3334490429,\n",
       " 3334413270,\n",
       " 3334194651,\n",
       " 3334065974,\n",
       " 3333945345,\n",
       " 3333886329,\n",
       " 3333850355,\n",
       " 3333770890,\n",
       " 3333760626,\n",
       " 3333643896,\n",
       " 3325384623,\n",
       " 3322614823]"
      ]
     },
     "execution_count": 10,
     "metadata": {},
     "output_type": "execute_result"
    }
   ],
   "source": [
    "listOfRankedGames(\"Unstable JG Main\")"
   ]
  },
  {
   "cell_type": "code",
   "execution_count": 25,
   "metadata": {},
   "outputs": [],
   "source": [
    "finaldata = [[0,0,0], \n",
    "             [0,0,0]]"
   ]
  },
  {
   "cell_type": "code",
   "execution_count": 27,
   "metadata": {},
   "outputs": [
    {
     "data": {
      "text/plain": [
       "[[0, 0, 0, 3], [0, 0, 0, 3]]"
      ]
     },
     "execution_count": 27,
     "metadata": {},
     "output_type": "execute_result"
    }
   ],
   "source": [
    "finaldata[0].append(3)\n",
    "finaldata"
   ]
  },
  {
   "cell_type": "code",
   "execution_count": 102,
   "metadata": {},
   "outputs": [],
   "source": [
    "def createList(rows, columns):\n",
    "    list = [[]]\n",
    "    for i in range(rows):\n",
    "        for j in range(columns):\n",
    "            list[i].append(0)\n",
    "        if i != rows-1:\n",
    "            list.append([])\n",
    "    return list\n",
    "finaldata = createList(1,18)"
   ]
  },
  {
   "cell_type": "code",
   "execution_count": 98,
   "metadata": {},
   "outputs": [
    {
     "name": "stdout",
     "output_type": "stream",
     "text": [
      "[]\n"
     ]
    }
   ],
   "source": [
    "def fillRow(summonerName, listName,lp1,lp2,lp3,lpFinal):\n",
    "    winRateList = winRate(summonerName)\n",
    "    listAppended = [round(tierAverage(summonerName),3)]\n",
    "    for i in winRateList:\n",
    "        listAppended.append(i)\n",
    "    listAppended.append(lp1)\n",
    "    listAppended.append(lp2)\n",
    "    listAppended.append(lp3)\n",
    "    listAppended.append(lpFinal)\n",
    "    listName.append(listAppended)\n",
    "fillRow(\"RIPgear\", finaldata, 20,19,19) #RIPgear 20,19,19,-16,-17\n",
    "#Silver 2 82 LP / 27W 25L Win Ratio 52%\n",
    "# 65 LP"
   ]
  },
  {
   "cell_type": "code",
   "execution_count": 105,
   "metadata": {},
   "outputs": [
    {
     "name": "stdout",
     "output_type": "stream",
     "text": [
      "['br4LDBRNX-kf9FUQyzrJ7cLIpUEnZt5Zxi7nzRjtzoQsSqY']\n"
     ]
    }
   ],
   "source": [
    "def fillRow(summonerName, listName,lpList,lpFinal):\n",
    "    winRateList = winRate(summonerName)\n",
    "    #listAppended = [round(tierAverage(summonerName),3)]\n",
    "    for i in winRateList:\n",
    "        listAppended.append(i)\n",
    "    wins = []\n",
    "    losses = []\n",
    "    for j in lpList:\n",
    "        if j > 0:\n",
    "            wins.append(j)\n",
    "        else:\n",
    "            losses.append(j*-1)\n",
    "    listAppended.append(sum(wins)/len(wins))\n",
    "    listAppended.append(sum(losses)/len(losses))\n",
    "    listAppended.append(lpFinal)\n",
    "    listName.append(listAppended)\n",
    "fillRow(\"RIPgear\", finaldata, [20,19,-19], 19) \n",
    "#Notes - Tier Avg, 15 Win Rates, Avg Win LP, Avg Lose LP, Lp Final\n",
    "#forget abt tier avg for now, come back to it later if need to\n",
    "#Should be WR for last 5 games and WR for 15 Games\n",
    "# TIER AVG HAS TO BE SOLO"
   ]
  },
  {
   "cell_type": "code",
   "execution_count": 99,
   "metadata": {},
   "outputs": [
    {
     "data": {
      "text/plain": [
       "[[0, 0, 0, 0, 0, 0, 0, 0, 0, 0, 0, 0, 0, 0, 0, 0, 0, 0],\n",
       " [0, 0, 0, 0, 0, 0, 0, 0, 0, 0, 0, 0, 0, 0, 0, 0, 0, 0],\n",
       " [0, 0, 0, 0, 0, 0, 0, 0, 0, 0, 0, 0, 0, 0, 0, 0, 0, 0],\n",
       " [9.033777777777779,\n",
       "  1,\n",
       "  1,\n",
       "  1,\n",
       "  1,\n",
       "  0,\n",
       "  0,\n",
       "  2,\n",
       "  0,\n",
       "  1,\n",
       "  0,\n",
       "  0,\n",
       "  1,\n",
       "  0,\n",
       "  0,\n",
       "  0,\n",
       "  30,\n",
       "  28,\n",
       "  27,\n",
       "  26],\n",
       " [9.034, 1, 1, 1, 1, 0, 0, 2, 0, 1, 0, 0, 1, 0, 0, 0, 30, 28, 27, 26]]"
      ]
     },
     "execution_count": 99,
     "metadata": {},
     "output_type": "execute_result"
    }
   ],
   "source": [
    "finaldata"
   ]
  },
  {
   "cell_type": "code",
   "execution_count": 63,
   "metadata": {},
   "outputs": [],
   "source": [
    "finaldata = np.asarray(finaldata)"
   ]
  },
  {
   "cell_type": "code",
   "execution_count": 36,
   "metadata": {},
   "outputs": [
    {
     "data": {
      "text/plain": [
       "array([[0, 0, 0, 0, 0, 0, 0, 0, 0, 0, 0, 0, 0, 0, 0, 0, 0, 0],\n",
       "       [0, 0, 0, 0, 0, 0, 0, 0, 0, 0, 0, 0, 0, 0, 0, 0, 0, 0],\n",
       "       [0, 0, 0, 0, 0, 0, 0, 0, 0, 0, 0, 0, 0, 0, 0, 0, 0, 0]])"
      ]
     },
     "execution_count": 36,
     "metadata": {},
     "output_type": "execute_result"
    }
   ],
   "source": [
    "finaldata"
   ]
  },
  {
   "cell_type": "code",
   "execution_count": 18,
   "metadata": {},
   "outputs": [],
   "source": [
    "df2 = pd.DataFrame(finaldata,\n",
    "                   columns=['lp', 'b', 'c'])"
   ]
  },
  {
   "cell_type": "code",
   "execution_count": 19,
   "metadata": {},
   "outputs": [
    {
     "data": {
      "text/html": [
       "<div>\n",
       "<style scoped>\n",
       "    .dataframe tbody tr th:only-of-type {\n",
       "        vertical-align: middle;\n",
       "    }\n",
       "\n",
       "    .dataframe tbody tr th {\n",
       "        vertical-align: top;\n",
       "    }\n",
       "\n",
       "    .dataframe thead th {\n",
       "        text-align: right;\n",
       "    }\n",
       "</style>\n",
       "<table border=\"1\" class=\"dataframe\">\n",
       "  <thead>\n",
       "    <tr style=\"text-align: right;\">\n",
       "      <th></th>\n",
       "      <th>lp</th>\n",
       "      <th>b</th>\n",
       "      <th>c</th>\n",
       "    </tr>\n",
       "  </thead>\n",
       "  <tbody>\n",
       "    <tr>\n",
       "      <td>0</td>\n",
       "      <td>0</td>\n",
       "      <td>0</td>\n",
       "      <td>0</td>\n",
       "    </tr>\n",
       "    <tr>\n",
       "      <td>1</td>\n",
       "      <td>0</td>\n",
       "      <td>0</td>\n",
       "      <td>0</td>\n",
       "    </tr>\n",
       "  </tbody>\n",
       "</table>\n",
       "</div>"
      ],
      "text/plain": [
       "   lp  b  c\n",
       "0   0  0  0\n",
       "1   0  0  0"
      ]
     },
     "execution_count": 19,
     "metadata": {},
     "output_type": "execute_result"
    }
   ],
   "source": [
    "df2"
   ]
  },
  {
   "cell_type": "code",
   "execution_count": 52,
   "metadata": {},
   "outputs": [],
   "source": [
    "a_2d_list = [[1, 2], [3, 4]]\n",
    "\n",
    "a_2d_list.append([5, 6])"
   ]
  },
  {
   "cell_type": "code",
   "execution_count": 53,
   "metadata": {},
   "outputs": [
    {
     "data": {
      "text/plain": [
       "[[1, 2], [3, 4], [5, 6]]"
      ]
     },
     "execution_count": 53,
     "metadata": {},
     "output_type": "execute_result"
    }
   ],
   "source": [
    "a_2d_list"
   ]
  },
  {
   "cell_type": "code",
   "execution_count": 54,
   "metadata": {},
   "outputs": [],
   "source": [
    "a_2d_list.append([4])"
   ]
  },
  {
   "cell_type": "code",
   "execution_count": 55,
   "metadata": {},
   "outputs": [
    {
     "data": {
      "text/plain": [
       "[[1, 2], [3, 4], [5, 6], [4]]"
      ]
     },
     "execution_count": 55,
     "metadata": {},
     "output_type": "execute_result"
    }
   ],
   "source": [
    "a_2d_list"
   ]
  },
  {
   "cell_type": "code",
   "execution_count": null,
   "metadata": {},
   "outputs": [],
   "source": []
  }
 ],
 "metadata": {
  "kernelspec": {
   "display_name": "Python 3",
   "language": "python",
   "name": "python3"
  },
  "language_info": {
   "codemirror_mode": {
    "name": "ipython",
    "version": 3
   },
   "file_extension": ".py",
   "mimetype": "text/x-python",
   "name": "python",
   "nbconvert_exporter": "python",
   "pygments_lexer": "ipython3",
   "version": "3.6.5"
  }
 },
 "nbformat": 4,
 "nbformat_minor": 2
}
